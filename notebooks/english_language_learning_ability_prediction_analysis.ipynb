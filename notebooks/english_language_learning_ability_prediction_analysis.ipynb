{
 "cells": [
  {
   "cell_type": "markdown",
   "id": "bc98e469-3b71-4270-94d9-d9c3204fa934",
   "metadata": {},
   "source": [
    "# English Language Learning Ability Prediction Model\n"
   ]
  },
  {
   "cell_type": "markdown",
   "id": "637cb206-6ac0-4112-a123-36bfeb5239cb",
   "metadata": {},
   "source": [
    "## Summary\n"
   ]
  },
  {
   "cell_type": "markdown",
   "id": "3ac35144-599b-40f0-b5a4-37f4ce190d8d",
   "metadata": {},
   "source": [
    "In this report we attempt to build a prediction model using linear regression models to predict an individual’s English Proficiency Score based on factors such as age, education, and language background. Our final regression model used Ridge linear regression trained wth L2 regularization and was found to have an optimal alpha value of 1.546. The performance of our model was scored across two metrics - R-squared score and Root Mean Squared Error (RMSE). Our model had a R-squared value of 0.24, indicating that 24% of the variance in the correct English Proficiency Score is associated with the features in our model and our RMSE of 0.052821 suggested that, on average, our predictions have an error of 5.28%. We analyzed the learned coefficients to determine the most. Looking at our predicted scores and the associated true English Proficiency Scores, we observed that our model performed better for higher actual English Proficiency Scores. This prediction could therefore be used in an informal setting for screening of proficiency based on certain factors - where the predicted score its just used as a baseline. The model may be useful in the initial analysis of individuals wanting to learn English - for example as a tool to allocate the appropriate amount of resources or suggest a certain level of guidance to an individual to best facilitate their English learning. We also interpreted the learned coefficients for our model which found that the most important features in our dataset associated with English Proficiency Scores is the `Eng_little` encoding which indicates the individual’s current level of English (e.g., native, immersion learner, non-immersion learner).\n"
   ]
  },
  {
   "cell_type": "markdown",
   "id": "8c6a6fc5-ad92-424c-9491-50bf6361111b",
   "metadata": {},
   "source": [
    "## Introduction\n"
   ]
  },
  {
   "cell_type": "markdown",
   "id": "fdbb3d4c-9cc5-4a1d-be3e-84f920dc74b9",
   "metadata": {},
   "source": [
    "### Background\n"
   ]
  },
  {
   "attachments": {},
   "cell_type": "markdown",
   "id": "f77d46cc-7c83-480b-9c80-758ba18db35c",
   "metadata": {},
   "source": [
    "In an increasingly interconnected world, the mastery of English language skills has ascended to critical importance. English frequently functions as the common medium of exchange in global commerce, education, and cross-border dialogue. This surge in demand has spurred extensive research into understanding the factors that contribute to successful English language learning. Various studies have explored a range of determinants, including age, educational background, language exposure, and the presence of learning disabilities like dyslexia.\n",
    "\n",
    "The concept of a critical period for language acquisition, a time during which learning a language is considerably easier and more effective, has been a focal point of debate and investigation. Research in this domain often leverages extensive datasets to analyze these factors and predict language learning outcomes, providing valuable insights for educators and learners alike.\n",
    "\n",
    "The dataset used in this study offers a rich collection of data points encompassing various demographic and linguistic variables. It includes information on native languages, the age of English language learning initiation, years spent in English-speaking environments, and the presence of psychiatric disorders or reading difficulties. This comprehensive dataset facilitates a nuanced exploration of how these diverse factors interplay to influence English language proficiency.\n",
    "\n",
    "By employing machine learning techniques and statistical analysis, this project aims to predict an individual’s proficiency in English, contributing to the broader understanding of language acquisition and offering practical applications in educational settings.\n"
   ]
  },
  {
   "cell_type": "markdown",
   "id": "816bc541-2751-43fd-b34b-98bc74bfd070",
   "metadata": {},
   "source": [
    "### Research Question\n"
   ]
  },
  {
   "cell_type": "markdown",
   "id": "f4f9a85d-5ec1-4b05-9831-8ef841c49bb7",
   "metadata": {},
   "source": [
    "Can we predict an individual's English proficiency score based on factors such as age, education, and language background?\n"
   ]
  },
  {
   "cell_type": "markdown",
   "id": "664b21c6-23cb-4695-871a-1c75848b76a9",
   "metadata": {},
   "source": [
    "### Dataset\n"
   ]
  },
  {
   "cell_type": "markdown",
   "id": "3a78cb35-83c3-4f4b-843d-3cba4725065e",
   "metadata": {},
   "source": [
    "The dataset is associated with the study \"A Critical Period for Second Language Acquisition: Evidence from 2/3 Million English Speakers,\" authored by Joshua Hartshorne, Joshua Tenenbaum, and Steven Pinker, it includes demographic variables, language exposure details, and responses to critical questions. The dataset encompasses a wide range of languages, educational backgrounds, and living environments and the analysis primarily focuses on monolinguals, immersion learners, and non-immersion learners, providing valuable insights for language acquisition.\n",
    "\n",
    "This dataset is publicly available and consists of a substantial collection of data points, totaling 671.5MB in size. The repository includes several key components:\n",
    "\n",
    "1. **Compiled.csv**: This file contains the raw data, including subjects and items that were later excluded from the analysis.\n",
    "2. **Data.csv**: This file features only the subjects and items that were analyzed in the study.\n",
    "3. **Processing.R**: An R script included in the repository is used for converting data from the compiled.csv file into the format present in the data.csv file.\n",
    "\n",
    "The dataset covers a range of variables, such as:\n",
    "\n",
    "- **Basic Information**: Unique subject ID, date and time at the start of the experiment, gender, and age.\n",
    "- **Language Details**: Native languages (natlangs), primary language currently used (primelangs), and age at which English learning started (Eng_start).\n",
    "- **Living and Education Background**: Years living in English-speaking countries, living with native English speakers, highest level of education, and countries lived in.\n",
    "- **Psychiatric and Reading Difficulties**: Reports of any psychiatric disorders and difficulties with reading (dyslexia).\n",
    "- **Experiment-specific Information**: Use of a dictionary in the experiment, prior participation in the experiment, and percentage of critical items answered correctly.\n",
    "\n",
    "Additionally, there are columns for responses to individual questions in the experiment. We will explore the dataset in detail below.\n",
    "Note: Due to this being Milestone 1 project, we limited the analysis to 200,000 rows to ensure that the analysis would run quickly and to ensure that do not exceed the 100MB limit for simplicity. We selected the rows through random sampling ( the script used can be found as `src/random_sampling_from_full_dataset.ipynb`\n"
   ]
  },
  {
   "cell_type": "markdown",
   "id": "ae03ea70-5286-4d78-bcea-52595898c49b",
   "metadata": {},
   "source": [
    "## Methods and Results\n"
   ]
  },
  {
   "cell_type": "markdown",
   "id": "1f96a268-c238-488b-bbf8-50fe52c4c518",
   "metadata": {},
   "source": [
    "In order to address our research question, we will first select the appropriate features from our dataset by way of EDA and by referring to the data dictionary to better understand the instances in the dataset ( dataset information is linked in references). Additionally, since this will be a linear regression modelling problem, we will use the `Ridge` and `Lasso` Model as our models of choice, we will assess their ability by using the $R^2$ and negative Root Mean Squared Error to ensure we use two different types of metrics to assess the variability in the predictions from the actual target.\n",
    "\n",
    "The initial steps involved extensive data preprocessing, which included handling missing values, standardizing numerical features, and encoding categorical variables. To enhance model interpretability, we categorized education levels into major groups, consolidating less frequent categories as \"Others.\"\n",
    "\n",
    "We constructed a column transformer, tailored to the nature of each feature type, incorporating standard scaling for numeric attributes, one-hot encoding for categorical variables, and specific treatments for binary features. Further, a custom function was used to map less frequent education categories to an \"Others\" label.\n",
    "\n",
    "The Ridge m (el, chosen as the optimodel)one, underwent hyperparameter tuning via randomized search. The performance was assessed using (negative) Root Mean Squared Error (neg-RMSE) and R-squared metrics, providing valuable insights into model accuracy and fit. The Ridge model showcased promising results, demonstrating its proficiency in predicting English proficiency scores.\n",
    "To ensure the model's robustness, we validated its performance on a separate test dataset, affirming its effectiveness in predicting English proficiency scores. The final model, with an optimized alpha value of 1.546, yielded a test RMSE of 0.052821, suggesting a 5.28% average prediction error.\n"
   ]
  },
  {
   "cell_type": "markdown",
   "id": "c6d73cfc-5572-4915-a9ea-76a1d619f3c6",
   "metadata": {},
   "source": [
    "#### Loading Packages and Functions\n"
   ]
  },
  {
   "cell_type": "code",
   "execution_count": 1,
   "id": "8141cb84-15de-4b7d-8641-f51eb209c2af",
   "metadata": {},
   "outputs": [],
   "source": [
    "import pandas as pd\n",
    "import numpy as np\n",
    "import altair as alt\n",
    "import vegafusion\n",
    "import matplotlib\n",
    "import matplotlib.pyplot as plt\n",
    "from sklearn.model_selection import train_test_split, RandomizedSearchCV\n",
    "from sklearn.compose import ColumnTransformer, make_column_transformer\n",
    "from sklearn.pipeline import Pipeline, make_pipeline\n",
    "from sklearn.impute import SimpleImputer\n",
    "from sklearn.preprocessing import (\n",
    "    OneHotEncoder,\n",
    "    OrdinalEncoder,\n",
    "    StandardScaler,\n",
    "    FunctionTransformer,\n",
    ")\n",
    "from scipy.stats import loguniform\n",
    "from sklearn.linear_model import Ridge, Lasso\n",
    "\n",
    "import sys\n",
    "\n",
    "sys.path.append(\"..\")"
   ]
  },
  {
   "cell_type": "code",
   "execution_count": 2,
   "id": "f03ac483",
   "metadata": {},
   "outputs": [],
   "source": [
    "# Import custom functions\n",
    "\n",
    "from src.correlation_matrix import pearson_correlation_matrix\n",
    "from src.plot_histogram_with_exclusions import plot_histogram_with_exclusions\n",
    "from src.search_top_models import fit_and_return_top_models\n",
    "from src.show_feat_coeff import show_feat_coeff\n",
    "from src.plt_regr_pred import plt_regr_pred"
   ]
  },
  {
   "cell_type": "markdown",
   "id": "9ae7468f-02e6-4740-abd3-7ea4974d889c",
   "metadata": {},
   "source": [
    "#### Reading Data\n"
   ]
  },
  {
   "cell_type": "code",
   "execution_count": 3,
   "id": "c28ae1c2-e7b2-4519-9415-21b3022deb16",
   "metadata": {},
   "outputs": [
    {
     "data": {
      "text/plain": [
       "(200849, 128)"
      ]
     },
     "execution_count": 3,
     "metadata": {},
     "output_type": "execute_result"
    }
   ],
   "source": [
    "# Reading the dataset\n",
    "\n",
    "dataset = pd.read_csv(\n",
    "    \"../data/sampled_dataset.csv\", sep=\",\", on_bad_lines=\"skip\", low_memory=False\n",
    ")\n",
    "dataset.shape"
   ]
  },
  {
   "cell_type": "markdown",
   "id": "667d9f78-06b1-4e02-98d8-d83046b836c7",
   "metadata": {},
   "source": [
    "#### Split the Dataset into Train/Test\n"
   ]
  },
  {
   "cell_type": "code",
   "execution_count": 4,
   "id": "9f2726c9-f4f0-4f1d-8089-eec51b1dedea",
   "metadata": {},
   "outputs": [
    {
     "data": {
      "text/html": [
       "<div>\n",
       "<style scoped>\n",
       "    .dataframe tbody tr th:only-of-type {\n",
       "        vertical-align: middle;\n",
       "    }\n",
       "\n",
       "    .dataframe tbody tr th {\n",
       "        vertical-align: top;\n",
       "    }\n",
       "\n",
       "    .dataframe thead th {\n",
       "        text-align: right;\n",
       "    }\n",
       "</style>\n",
       "<table border=\"1\" class=\"dataframe\">\n",
       "  <thead>\n",
       "    <tr style=\"text-align: right;\">\n",
       "      <th></th>\n",
       "      <th>Unnamed: 0</th>\n",
       "      <th>id</th>\n",
       "      <th>date</th>\n",
       "      <th>time</th>\n",
       "      <th>gender</th>\n",
       "      <th>age</th>\n",
       "      <th>natlangs</th>\n",
       "      <th>primelangs</th>\n",
       "      <th>dyslexia</th>\n",
       "      <th>psychiatric</th>\n",
       "      <th>...</th>\n",
       "      <th>q34_6</th>\n",
       "      <th>q34_8</th>\n",
       "      <th>q35_1</th>\n",
       "      <th>q35_2</th>\n",
       "      <th>q35_4</th>\n",
       "      <th>q35_5</th>\n",
       "      <th>q35_7</th>\n",
       "      <th>q35_8</th>\n",
       "      <th>correct</th>\n",
       "      <th>elogit</th>\n",
       "    </tr>\n",
       "  </thead>\n",
       "  <tbody>\n",
       "    <tr>\n",
       "      <th>8931</th>\n",
       "      <td>219037</td>\n",
       "      <td>477030.0</td>\n",
       "      <td>2014-06-03</td>\n",
       "      <td>19:47:47</td>\n",
       "      <td>male</td>\n",
       "      <td>20</td>\n",
       "      <td>Spanish</td>\n",
       "      <td>English, Japanese, Spanish</td>\n",
       "      <td>0</td>\n",
       "      <td>0</td>\n",
       "      <td>...</td>\n",
       "      <td>1</td>\n",
       "      <td>1</td>\n",
       "      <td>1</td>\n",
       "      <td>1</td>\n",
       "      <td>1</td>\n",
       "      <td>1</td>\n",
       "      <td>1</td>\n",
       "      <td>1</td>\n",
       "      <td>0.852632</td>\n",
       "      <td>1.726454</td>\n",
       "    </tr>\n",
       "    <tr>\n",
       "      <th>44135</th>\n",
       "      <td>473367</td>\n",
       "      <td>1111684.0</td>\n",
       "      <td>2014-06-15</td>\n",
       "      <td>15:17:19</td>\n",
       "      <td>male</td>\n",
       "      <td>21</td>\n",
       "      <td>English</td>\n",
       "      <td>English</td>\n",
       "      <td>0</td>\n",
       "      <td>0</td>\n",
       "      <td>...</td>\n",
       "      <td>1</td>\n",
       "      <td>1</td>\n",
       "      <td>1</td>\n",
       "      <td>1</td>\n",
       "      <td>1</td>\n",
       "      <td>1</td>\n",
       "      <td>1</td>\n",
       "      <td>1</td>\n",
       "      <td>0.968421</td>\n",
       "      <td>3.274446</td>\n",
       "    </tr>\n",
       "    <tr>\n",
       "      <th>192904</th>\n",
       "      <td>493229</td>\n",
       "      <td>1141294.0</td>\n",
       "      <td>2014-06-15</td>\n",
       "      <td>20:26:48</td>\n",
       "      <td>male</td>\n",
       "      <td>16</td>\n",
       "      <td>English, Spanish</td>\n",
       "      <td>English, Spanish</td>\n",
       "      <td>0</td>\n",
       "      <td>0</td>\n",
       "      <td>...</td>\n",
       "      <td>1</td>\n",
       "      <td>1</td>\n",
       "      <td>1</td>\n",
       "      <td>1</td>\n",
       "      <td>1</td>\n",
       "      <td>1</td>\n",
       "      <td>1</td>\n",
       "      <td>0</td>\n",
       "      <td>0.926316</td>\n",
       "      <td>2.468100</td>\n",
       "    </tr>\n",
       "    <tr>\n",
       "      <th>163907</th>\n",
       "      <td>340647</td>\n",
       "      <td>666380.0</td>\n",
       "      <td>2014-06-06</td>\n",
       "      <td>16:53:13</td>\n",
       "      <td>female</td>\n",
       "      <td>19</td>\n",
       "      <td>Other</td>\n",
       "      <td>English, Other</td>\n",
       "      <td>0</td>\n",
       "      <td>0</td>\n",
       "      <td>...</td>\n",
       "      <td>1</td>\n",
       "      <td>1</td>\n",
       "      <td>1</td>\n",
       "      <td>1</td>\n",
       "      <td>1</td>\n",
       "      <td>1</td>\n",
       "      <td>1</td>\n",
       "      <td>1</td>\n",
       "      <td>0.968421</td>\n",
       "      <td>3.274446</td>\n",
       "    </tr>\n",
       "    <tr>\n",
       "      <th>147697</th>\n",
       "      <td>117592</td>\n",
       "      <td>298613.0</td>\n",
       "      <td>2014-05-31</td>\n",
       "      <td>14:50:27</td>\n",
       "      <td>female</td>\n",
       "      <td>30</td>\n",
       "      <td>English, Finnish</td>\n",
       "      <td>English, Finnish</td>\n",
       "      <td>0</td>\n",
       "      <td>0</td>\n",
       "      <td>...</td>\n",
       "      <td>1</td>\n",
       "      <td>1</td>\n",
       "      <td>0</td>\n",
       "      <td>1</td>\n",
       "      <td>1</td>\n",
       "      <td>1</td>\n",
       "      <td>1</td>\n",
       "      <td>1</td>\n",
       "      <td>0.926316</td>\n",
       "      <td>2.468100</td>\n",
       "    </tr>\n",
       "  </tbody>\n",
       "</table>\n",
       "<p>5 rows × 128 columns</p>\n",
       "</div>"
      ],
      "text/plain": [
       "        Unnamed: 0         id        date      time  gender  age  \\\n",
       "8931        219037   477030.0  2014-06-03  19:47:47    male   20   \n",
       "44135       473367  1111684.0  2014-06-15  15:17:19    male   21   \n",
       "192904      493229  1141294.0  2014-06-15  20:26:48    male   16   \n",
       "163907      340647   666380.0  2014-06-06  16:53:13  female   19   \n",
       "147697      117592   298613.0  2014-05-31  14:50:27  female   30   \n",
       "\n",
       "                natlangs                  primelangs  dyslexia  psychiatric  \\\n",
       "8931             Spanish  English, Japanese, Spanish         0            0   \n",
       "44135            English                     English         0            0   \n",
       "192904  English, Spanish            English, Spanish         0            0   \n",
       "163907             Other              English, Other         0            0   \n",
       "147697  English, Finnish            English, Finnish         0            0   \n",
       "\n",
       "        ... q34_6 q34_8  q35_1  q35_2  q35_4  q35_5  q35_7 q35_8   correct  \\\n",
       "8931    ...     1     1      1      1      1      1      1     1  0.852632   \n",
       "44135   ...     1     1      1      1      1      1      1     1  0.968421   \n",
       "192904  ...     1     1      1      1      1      1      1     0  0.926316   \n",
       "163907  ...     1     1      1      1      1      1      1     1  0.968421   \n",
       "147697  ...     1     1      0      1      1      1      1     1  0.926316   \n",
       "\n",
       "          elogit  \n",
       "8931    1.726454  \n",
       "44135   3.274446  \n",
       "192904  2.468100  \n",
       "163907  3.274446  \n",
       "147697  2.468100  \n",
       "\n",
       "[5 rows x 128 columns]"
      ]
     },
     "execution_count": 4,
     "metadata": {},
     "output_type": "execute_result"
    }
   ],
   "source": [
    "# Splitting the DataFrame\n",
    "train_df, test_df = train_test_split(dataset, test_size=0.3, random_state=123)\n",
    "\n",
    "train_df.head()"
   ]
  },
  {
   "cell_type": "markdown",
   "id": "4a39aa8a-8971-438e-9d64-5604e8e50b8b",
   "metadata": {},
   "source": [
    "#### EDA\n"
   ]
  },
  {
   "cell_type": "markdown",
   "id": "459bbff0-4ac5-491f-8ddd-ad9f5b3b9428",
   "metadata": {},
   "source": [
    "Some Columns are redundant and binary versions of another column, we will exclude these from our dataset to start off, if needed we can switch to the binary version of the column later using our preprocessor\n"
   ]
  },
  {
   "cell_type": "code",
   "execution_count": 5,
   "id": "a2a44aea-6d34-4256-98fa-f956a10a6476",
   "metadata": {},
   "outputs": [
    {
     "name": "stdout",
     "output_type": "stream",
     "text": [
      "<class 'pandas.core.frame.DataFrame'>\n",
      "Index: 140594 entries, 8931 to 15725\n",
      "Columns: 128 entries, Unnamed: 0 to elogit\n",
      "dtypes: float64(6), int64(104), object(18)\n",
      "memory usage: 138.4+ MB\n"
     ]
    }
   ],
   "source": [
    "train_df.info()"
   ]
  },
  {
   "cell_type": "code",
   "execution_count": 6,
   "id": "f9f90155-fca8-4cfb-82bc-4be7dfdaf48b",
   "metadata": {},
   "outputs": [
    {
     "data": {
      "text/html": [
       "<div>\n",
       "<style scoped>\n",
       "    .dataframe tbody tr th:only-of-type {\n",
       "        vertical-align: middle;\n",
       "    }\n",
       "\n",
       "    .dataframe tbody tr th {\n",
       "        vertical-align: top;\n",
       "    }\n",
       "\n",
       "    .dataframe thead th {\n",
       "        text-align: right;\n",
       "    }\n",
       "</style>\n",
       "<table border=\"1\" class=\"dataframe\">\n",
       "  <thead>\n",
       "    <tr style=\"text-align: right;\">\n",
       "      <th></th>\n",
       "      <th>Unnamed: 0</th>\n",
       "      <th>id</th>\n",
       "      <th>date</th>\n",
       "      <th>time</th>\n",
       "      <th>gender</th>\n",
       "      <th>age</th>\n",
       "      <th>natlangs</th>\n",
       "      <th>primelangs</th>\n",
       "      <th>dyslexia</th>\n",
       "      <th>psychiatric</th>\n",
       "      <th>...</th>\n",
       "      <th>q34_6</th>\n",
       "      <th>q34_8</th>\n",
       "      <th>q35_1</th>\n",
       "      <th>q35_2</th>\n",
       "      <th>q35_4</th>\n",
       "      <th>q35_5</th>\n",
       "      <th>q35_7</th>\n",
       "      <th>q35_8</th>\n",
       "      <th>correct</th>\n",
       "      <th>elogit</th>\n",
       "    </tr>\n",
       "  </thead>\n",
       "  <tbody>\n",
       "    <tr>\n",
       "      <th>count</th>\n",
       "      <td>140594.000000</td>\n",
       "      <td>1.405940e+05</td>\n",
       "      <td>140594</td>\n",
       "      <td>140594</td>\n",
       "      <td>140594</td>\n",
       "      <td>140594.000000</td>\n",
       "      <td>138890</td>\n",
       "      <td>138935</td>\n",
       "      <td>140594.0</td>\n",
       "      <td>140594.000000</td>\n",
       "      <td>...</td>\n",
       "      <td>140594.000000</td>\n",
       "      <td>140594.000000</td>\n",
       "      <td>140594.000000</td>\n",
       "      <td>140594.000000</td>\n",
       "      <td>140594.000000</td>\n",
       "      <td>140594.000000</td>\n",
       "      <td>140594.000000</td>\n",
       "      <td>140594.000000</td>\n",
       "      <td>140594.000000</td>\n",
       "      <td>140594.000000</td>\n",
       "    </tr>\n",
       "    <tr>\n",
       "      <th>unique</th>\n",
       "      <td>NaN</td>\n",
       "      <td>NaN</td>\n",
       "      <td>71</td>\n",
       "      <td>68176</td>\n",
       "      <td>3</td>\n",
       "      <td>NaN</td>\n",
       "      <td>2399</td>\n",
       "      <td>2266</td>\n",
       "      <td>NaN</td>\n",
       "      <td>NaN</td>\n",
       "      <td>...</td>\n",
       "      <td>NaN</td>\n",
       "      <td>NaN</td>\n",
       "      <td>NaN</td>\n",
       "      <td>NaN</td>\n",
       "      <td>NaN</td>\n",
       "      <td>NaN</td>\n",
       "      <td>NaN</td>\n",
       "      <td>NaN</td>\n",
       "      <td>NaN</td>\n",
       "      <td>NaN</td>\n",
       "    </tr>\n",
       "    <tr>\n",
       "      <th>top</th>\n",
       "      <td>NaN</td>\n",
       "      <td>NaN</td>\n",
       "      <td>2014-06-04</td>\n",
       "      <td>12:40:58</td>\n",
       "      <td>female</td>\n",
       "      <td>NaN</td>\n",
       "      <td>English</td>\n",
       "      <td>English</td>\n",
       "      <td>NaN</td>\n",
       "      <td>NaN</td>\n",
       "      <td>...</td>\n",
       "      <td>NaN</td>\n",
       "      <td>NaN</td>\n",
       "      <td>NaN</td>\n",
       "      <td>NaN</td>\n",
       "      <td>NaN</td>\n",
       "      <td>NaN</td>\n",
       "      <td>NaN</td>\n",
       "      <td>NaN</td>\n",
       "      <td>NaN</td>\n",
       "      <td>NaN</td>\n",
       "    </tr>\n",
       "    <tr>\n",
       "      <th>freq</th>\n",
       "      <td>NaN</td>\n",
       "      <td>NaN</td>\n",
       "      <td>10667</td>\n",
       "      <td>9</td>\n",
       "      <td>75023</td>\n",
       "      <td>NaN</td>\n",
       "      <td>51933</td>\n",
       "      <td>64309</td>\n",
       "      <td>NaN</td>\n",
       "      <td>NaN</td>\n",
       "      <td>...</td>\n",
       "      <td>NaN</td>\n",
       "      <td>NaN</td>\n",
       "      <td>NaN</td>\n",
       "      <td>NaN</td>\n",
       "      <td>NaN</td>\n",
       "      <td>NaN</td>\n",
       "      <td>NaN</td>\n",
       "      <td>NaN</td>\n",
       "      <td>NaN</td>\n",
       "      <td>NaN</td>\n",
       "    </tr>\n",
       "    <tr>\n",
       "      <th>mean</th>\n",
       "      <td>340026.244370</td>\n",
       "      <td>1.019204e+06</td>\n",
       "      <td>NaN</td>\n",
       "      <td>NaN</td>\n",
       "      <td>NaN</td>\n",
       "      <td>29.973911</td>\n",
       "      <td>NaN</td>\n",
       "      <td>NaN</td>\n",
       "      <td>0.0</td>\n",
       "      <td>0.029873</td>\n",
       "      <td>...</td>\n",
       "      <td>0.860279</td>\n",
       "      <td>0.963989</td>\n",
       "      <td>0.905323</td>\n",
       "      <td>0.922145</td>\n",
       "      <td>0.906539</td>\n",
       "      <td>0.964358</td>\n",
       "      <td>0.987354</td>\n",
       "      <td>0.843116</td>\n",
       "      <td>0.937534</td>\n",
       "      <td>3.022610</td>\n",
       "    </tr>\n",
       "    <tr>\n",
       "      <th>std</th>\n",
       "      <td>196219.295882</td>\n",
       "      <td>9.812440e+05</td>\n",
       "      <td>NaN</td>\n",
       "      <td>NaN</td>\n",
       "      <td>NaN</td>\n",
       "      <td>11.253002</td>\n",
       "      <td>NaN</td>\n",
       "      <td>NaN</td>\n",
       "      <td>0.0</td>\n",
       "      <td>0.170238</td>\n",
       "      <td>...</td>\n",
       "      <td>0.346699</td>\n",
       "      <td>0.186319</td>\n",
       "      <td>0.292769</td>\n",
       "      <td>0.267945</td>\n",
       "      <td>0.291078</td>\n",
       "      <td>0.185396</td>\n",
       "      <td>0.111743</td>\n",
       "      <td>0.363693</td>\n",
       "      <td>0.061040</td>\n",
       "      <td>1.007372</td>\n",
       "    </tr>\n",
       "    <tr>\n",
       "      <th>min</th>\n",
       "      <td>2.000000</td>\n",
       "      <td>3.000000e+00</td>\n",
       "      <td>NaN</td>\n",
       "      <td>NaN</td>\n",
       "      <td>NaN</td>\n",
       "      <td>7.000000</td>\n",
       "      <td>NaN</td>\n",
       "      <td>NaN</td>\n",
       "      <td>0.0</td>\n",
       "      <td>0.000000</td>\n",
       "      <td>...</td>\n",
       "      <td>0.000000</td>\n",
       "      <td>0.000000</td>\n",
       "      <td>0.000000</td>\n",
       "      <td>0.000000</td>\n",
       "      <td>0.000000</td>\n",
       "      <td>0.000000</td>\n",
       "      <td>0.000000</td>\n",
       "      <td>0.000000</td>\n",
       "      <td>0.063158</td>\n",
       "      <td>-2.622436</td>\n",
       "    </tr>\n",
       "    <tr>\n",
       "      <th>25%</th>\n",
       "      <td>170304.250000</td>\n",
       "      <td>4.009608e+05</td>\n",
       "      <td>NaN</td>\n",
       "      <td>NaN</td>\n",
       "      <td>NaN</td>\n",
       "      <td>22.000000</td>\n",
       "      <td>NaN</td>\n",
       "      <td>NaN</td>\n",
       "      <td>0.0</td>\n",
       "      <td>0.000000</td>\n",
       "      <td>...</td>\n",
       "      <td>1.000000</td>\n",
       "      <td>1.000000</td>\n",
       "      <td>1.000000</td>\n",
       "      <td>1.000000</td>\n",
       "      <td>1.000000</td>\n",
       "      <td>1.000000</td>\n",
       "      <td>1.000000</td>\n",
       "      <td>1.000000</td>\n",
       "      <td>0.915789</td>\n",
       "      <td>2.331573</td>\n",
       "    </tr>\n",
       "    <tr>\n",
       "      <th>50%</th>\n",
       "      <td>340399.000000</td>\n",
       "      <td>6.660240e+05</td>\n",
       "      <td>NaN</td>\n",
       "      <td>NaN</td>\n",
       "      <td>NaN</td>\n",
       "      <td>27.000000</td>\n",
       "      <td>NaN</td>\n",
       "      <td>NaN</td>\n",
       "      <td>0.0</td>\n",
       "      <td>0.000000</td>\n",
       "      <td>...</td>\n",
       "      <td>1.000000</td>\n",
       "      <td>1.000000</td>\n",
       "      <td>1.000000</td>\n",
       "      <td>1.000000</td>\n",
       "      <td>1.000000</td>\n",
       "      <td>1.000000</td>\n",
       "      <td>1.000000</td>\n",
       "      <td>1.000000</td>\n",
       "      <td>0.957895</td>\n",
       "      <td>3.012262</td>\n",
       "    </tr>\n",
       "    <tr>\n",
       "      <th>75%</th>\n",
       "      <td>509441.500000</td>\n",
       "      <td>1.166636e+06</td>\n",
       "      <td>NaN</td>\n",
       "      <td>NaN</td>\n",
       "      <td>NaN</td>\n",
       "      <td>35.000000</td>\n",
       "      <td>NaN</td>\n",
       "      <td>NaN</td>\n",
       "      <td>0.0</td>\n",
       "      <td>0.000000</td>\n",
       "      <td>...</td>\n",
       "      <td>1.000000</td>\n",
       "      <td>1.000000</td>\n",
       "      <td>1.000000</td>\n",
       "      <td>1.000000</td>\n",
       "      <td>1.000000</td>\n",
       "      <td>1.000000</td>\n",
       "      <td>1.000000</td>\n",
       "      <td>1.000000</td>\n",
       "      <td>0.978947</td>\n",
       "      <td>3.621671</td>\n",
       "    </tr>\n",
       "    <tr>\n",
       "      <th>max</th>\n",
       "      <td>680337.000000</td>\n",
       "      <td>3.678499e+06</td>\n",
       "      <td>NaN</td>\n",
       "      <td>NaN</td>\n",
       "      <td>NaN</td>\n",
       "      <td>89.000000</td>\n",
       "      <td>NaN</td>\n",
       "      <td>NaN</td>\n",
       "      <td>0.0</td>\n",
       "      <td>1.000000</td>\n",
       "      <td>...</td>\n",
       "      <td>1.000000</td>\n",
       "      <td>1.000000</td>\n",
       "      <td>1.000000</td>\n",
       "      <td>1.000000</td>\n",
       "      <td>1.000000</td>\n",
       "      <td>1.000000</td>\n",
       "      <td>1.000000</td>\n",
       "      <td>1.000000</td>\n",
       "      <td>1.000000</td>\n",
       "      <td>5.252273</td>\n",
       "    </tr>\n",
       "  </tbody>\n",
       "</table>\n",
       "<p>11 rows × 128 columns</p>\n",
       "</div>"
      ],
      "text/plain": [
       "           Unnamed: 0            id        date      time  gender  \\\n",
       "count   140594.000000  1.405940e+05      140594    140594  140594   \n",
       "unique            NaN           NaN          71     68176       3   \n",
       "top               NaN           NaN  2014-06-04  12:40:58  female   \n",
       "freq              NaN           NaN       10667         9   75023   \n",
       "mean    340026.244370  1.019204e+06         NaN       NaN     NaN   \n",
       "std     196219.295882  9.812440e+05         NaN       NaN     NaN   \n",
       "min          2.000000  3.000000e+00         NaN       NaN     NaN   \n",
       "25%     170304.250000  4.009608e+05         NaN       NaN     NaN   \n",
       "50%     340399.000000  6.660240e+05         NaN       NaN     NaN   \n",
       "75%     509441.500000  1.166636e+06         NaN       NaN     NaN   \n",
       "max     680337.000000  3.678499e+06         NaN       NaN     NaN   \n",
       "\n",
       "                  age natlangs primelangs  dyslexia    psychiatric  ...  \\\n",
       "count   140594.000000   138890     138935  140594.0  140594.000000  ...   \n",
       "unique            NaN     2399       2266       NaN            NaN  ...   \n",
       "top               NaN  English    English       NaN            NaN  ...   \n",
       "freq              NaN    51933      64309       NaN            NaN  ...   \n",
       "mean        29.973911      NaN        NaN       0.0       0.029873  ...   \n",
       "std         11.253002      NaN        NaN       0.0       0.170238  ...   \n",
       "min          7.000000      NaN        NaN       0.0       0.000000  ...   \n",
       "25%         22.000000      NaN        NaN       0.0       0.000000  ...   \n",
       "50%         27.000000      NaN        NaN       0.0       0.000000  ...   \n",
       "75%         35.000000      NaN        NaN       0.0       0.000000  ...   \n",
       "max         89.000000      NaN        NaN       0.0       1.000000  ...   \n",
       "\n",
       "                q34_6          q34_8          q35_1          q35_2  \\\n",
       "count   140594.000000  140594.000000  140594.000000  140594.000000   \n",
       "unique            NaN            NaN            NaN            NaN   \n",
       "top               NaN            NaN            NaN            NaN   \n",
       "freq              NaN            NaN            NaN            NaN   \n",
       "mean         0.860279       0.963989       0.905323       0.922145   \n",
       "std          0.346699       0.186319       0.292769       0.267945   \n",
       "min          0.000000       0.000000       0.000000       0.000000   \n",
       "25%          1.000000       1.000000       1.000000       1.000000   \n",
       "50%          1.000000       1.000000       1.000000       1.000000   \n",
       "75%          1.000000       1.000000       1.000000       1.000000   \n",
       "max          1.000000       1.000000       1.000000       1.000000   \n",
       "\n",
       "                q35_4          q35_5          q35_7          q35_8  \\\n",
       "count   140594.000000  140594.000000  140594.000000  140594.000000   \n",
       "unique            NaN            NaN            NaN            NaN   \n",
       "top               NaN            NaN            NaN            NaN   \n",
       "freq              NaN            NaN            NaN            NaN   \n",
       "mean         0.906539       0.964358       0.987354       0.843116   \n",
       "std          0.291078       0.185396       0.111743       0.363693   \n",
       "min          0.000000       0.000000       0.000000       0.000000   \n",
       "25%          1.000000       1.000000       1.000000       1.000000   \n",
       "50%          1.000000       1.000000       1.000000       1.000000   \n",
       "75%          1.000000       1.000000       1.000000       1.000000   \n",
       "max          1.000000       1.000000       1.000000       1.000000   \n",
       "\n",
       "              correct         elogit  \n",
       "count   140594.000000  140594.000000  \n",
       "unique            NaN            NaN  \n",
       "top               NaN            NaN  \n",
       "freq              NaN            NaN  \n",
       "mean         0.937534       3.022610  \n",
       "std          0.061040       1.007372  \n",
       "min          0.063158      -2.622436  \n",
       "25%          0.915789       2.331573  \n",
       "50%          0.957895       3.012262  \n",
       "75%          0.978947       3.621671  \n",
       "max          1.000000       5.252273  \n",
       "\n",
       "[11 rows x 128 columns]"
      ]
     },
     "execution_count": 6,
     "metadata": {},
     "output_type": "execute_result"
    }
   ],
   "source": [
    "train_df.describe(include=\"all\")"
   ]
  },
  {
   "cell_type": "markdown",
   "id": "6c337c4b-e426-4769-bc70-cb4764e98230",
   "metadata": {},
   "source": [
    "#### Types of Columns\n"
   ]
  },
  {
   "cell_type": "code",
   "execution_count": 7,
   "id": "24927673-f461-4d77-b345-387b946439f3",
   "metadata": {},
   "outputs": [],
   "source": [
    "numeric_feats = [\"age\", \"Eng_start\", \"Eng_country_yrs\", \"Lived_Eng_per\"]\n",
    "\n",
    "binary_feats = [\"house_Eng\", \"nat_Eng\", \"prime_Eng\", \"psychiatric\"]\n",
    "target = [\"correct\"]"
   ]
  },
  {
   "cell_type": "markdown",
   "id": "236d122c-af69-4560-b2d4-825a877143ea",
   "metadata": {},
   "source": [
    "Columns that can safely be dropped after looking at the distributions and looking at the data dictionary:\n",
    "\n",
    "- `Elogit`: is the exponential log of the correct column, which would be useful for predicting probability since we would like to predict the score itself whihc is a continuous variable we can omit this from our analysis.\n",
    "- `Dyslexia`: shows that all participants were not dyslexic hence there will not be any features that the model can learn so will be omitted since all values are 0\n",
    "- `Dictionary`: since none of the participants used one we can safely omit this from our dataset.\n",
    "- `Natlangs`: The native langs columns has a corresponding binary column which is called nat_Eng, which is a yes no column instead of the specific languages the native speakers speak. So for milestone 1 analysis we chose to omit this and go with the simple binary feature since we are interested in the English speaking ability and whether a participant had prior experience/nativity.\n",
    "- `Primelangs`:same as natlangs column, we will opt for the binary column representation in the dataset.\n",
    "- `Already_participated`: all values are 0 hence can be safely dropped and this feature is not of interest.\n",
    "- `gender`: in order to avoid gender bias\n",
    "- `type`: It is the original country where the person is from, this information is indirectly captured in the native or primary column and since we care whether the participant is from mainly English speaking vs Non English speaking we will exclude specific countries by type but keep the country column.\n",
    "- We will remove the region specific information to limit the research in terms of caring whether the participant spent years in an english speaking country regardless of which country it was( dropping these columns) hence we will not consider whether a person lived in ireland or UK as long as it is english speaking so we will use columns like Eng_years as opposed to UK_region or US_region.\n",
    "- `currcountry`: This column mentions the current country the participant lives in, to limit the study and reduce dimensionality we will exclude this column. Since we have other features that capture the time spent by a participant in English Speaking countries which we are more interested in. For example a native speaker who currently lives in South Africa still speaks english very well and we capture those details about them by Eng_years as opposed to where the person currently lives.\n",
    "- `ebonics`: was excluded for the milestone analysis due to having additional nuances that would need to be handled ( explained later below)\n",
    "\n",
    "Other additional columns like `id`, `unnamed:0`, `q_1`, etc.:\n",
    "Since these columns are redundant or not useful for our analysis, we will be dropping them as they are redundant Question level columns in the dataset that will not be used whatsoever in our dataset, we are choosing to drop those columns early on before we visualise our data and examine it for the modelling phase that will follow.\n",
    "\n",
    "`time`:Additionally since we are interested in how students perform, we do not need to consider at what time or date they took their tests hence we will drop the first 4 columns of the dataset.\n"
   ]
  },
  {
   "cell_type": "code",
   "execution_count": 8,
   "id": "3855b0c7-11f9-47ad-a647-83f21dc0ff33",
   "metadata": {},
   "outputs": [],
   "source": [
    "drop_feats = [\n",
    "    \"id\",\n",
    "    \"date\",\n",
    "    \"time\",\n",
    "    \"Unnamed: 0\",\n",
    "    \"tests\",\n",
    "    \"elogit\",\n",
    "    \"dyslexia\",\n",
    "    \"dictionary\",\n",
    "    \"already_participated\",\n",
    "    \"natlangs\",\n",
    "    \"primelangs\",\n",
    "    \"Can_region\",\n",
    "    \"Ir_region\",\n",
    "    \"US_region\",\n",
    "    \"UK_region\",\n",
    "    \"UK_constituency\",\n",
    "    \"gender\",\n",
    "    \"type\",\n",
    "    \"currcountry\",\n",
    "    \"countries\",\n",
    "]\n",
    "\n",
    "# there 95 cols related to questions which should be dropped (starting with letter q)\n",
    "question_columns_to_drop = [col for col in dataset.columns if col.startswith(\"q\")]\n",
    "\n",
    "drop_feats += question_columns_to_drop"
   ]
  },
  {
   "cell_type": "code",
   "execution_count": 9,
   "id": "78a3b404-3223-4f44-b4d3-975ef7d57cac",
   "metadata": {},
   "outputs": [
    {
     "data": {
      "text/html": [
       "<div>\n",
       "<style scoped>\n",
       "    .dataframe tbody tr th:only-of-type {\n",
       "        vertical-align: middle;\n",
       "    }\n",
       "\n",
       "    .dataframe tbody tr th {\n",
       "        vertical-align: top;\n",
       "    }\n",
       "\n",
       "    .dataframe thead th {\n",
       "        text-align: right;\n",
       "    }\n",
       "</style>\n",
       "<table border=\"1\" class=\"dataframe\">\n",
       "  <thead>\n",
       "    <tr style=\"text-align: right;\">\n",
       "      <th></th>\n",
       "      <th>speaker_cat</th>\n",
       "      <th>Ebonics</th>\n",
       "      <th>Eng_little</th>\n",
       "      <th>education</th>\n",
       "    </tr>\n",
       "  </thead>\n",
       "  <tbody>\n",
       "    <tr>\n",
       "      <th>count</th>\n",
       "      <td>140594</td>\n",
       "      <td>35591</td>\n",
       "      <td>117214</td>\n",
       "      <td>140594</td>\n",
       "    </tr>\n",
       "    <tr>\n",
       "      <th>unique</th>\n",
       "      <td>3</td>\n",
       "      <td>3</td>\n",
       "      <td>4</td>\n",
       "      <td>44</td>\n",
       "    </tr>\n",
       "    <tr>\n",
       "      <th>top</th>\n",
       "      <td>native</td>\n",
       "      <td>0</td>\n",
       "      <td>little</td>\n",
       "      <td>Graduate Degree</td>\n",
       "    </tr>\n",
       "    <tr>\n",
       "      <th>freq</th>\n",
       "      <td>62351</td>\n",
       "      <td>34526</td>\n",
       "      <td>56360</td>\n",
       "      <td>49463</td>\n",
       "    </tr>\n",
       "  </tbody>\n",
       "</table>\n",
       "</div>"
      ],
      "text/plain": [
       "       speaker_cat Ebonics Eng_little        education\n",
       "count       140594   35591     117214           140594\n",
       "unique           3       3          4               44\n",
       "top         native       0     little  Graduate Degree\n",
       "freq         62351   34526      56360            49463"
      ]
     },
     "execution_count": 9,
     "metadata": {},
     "output_type": "execute_result"
    }
   ],
   "source": [
    "other_cols = list(\n",
    "    set(train_df.columns.tolist())\n",
    "    - set(numeric_feats)\n",
    "    - set(binary_feats)\n",
    "    - set(target)\n",
    "    - set(drop_feats)\n",
    ")\n",
    "train_df[other_cols].describe()"
   ]
  },
  {
   "cell_type": "code",
   "execution_count": 10,
   "id": "dda913f9-c162-42f4-9f8a-c369396ef38c",
   "metadata": {},
   "outputs": [
    {
     "data": {
      "text/html": [
       "<div>\n",
       "<style scoped>\n",
       "    .dataframe tbody tr th:only-of-type {\n",
       "        vertical-align: middle;\n",
       "    }\n",
       "\n",
       "    .dataframe tbody tr th {\n",
       "        vertical-align: top;\n",
       "    }\n",
       "\n",
       "    .dataframe thead th {\n",
       "        text-align: right;\n",
       "    }\n",
       "</style>\n",
       "<table border=\"1\" class=\"dataframe\">\n",
       "  <thead>\n",
       "    <tr style=\"text-align: right;\">\n",
       "      <th></th>\n",
       "      <th>speaker_cat</th>\n",
       "      <th>Eng_little</th>\n",
       "      <th>education</th>\n",
       "    </tr>\n",
       "  </thead>\n",
       "  <tbody>\n",
       "    <tr>\n",
       "      <th>8931</th>\n",
       "      <td>late</td>\n",
       "      <td>little</td>\n",
       "      <td>Some Undergrad (higher ed)</td>\n",
       "    </tr>\n",
       "    <tr>\n",
       "      <th>44135</th>\n",
       "      <td>native</td>\n",
       "      <td>monoeng</td>\n",
       "      <td>Undergraduate Degree (3-5 years higher ed)</td>\n",
       "    </tr>\n",
       "    <tr>\n",
       "      <th>192904</th>\n",
       "      <td>native</td>\n",
       "      <td>bileng</td>\n",
       "      <td>Haven't Finished High School (less than 13 yea...</td>\n",
       "    </tr>\n",
       "    <tr>\n",
       "      <th>163907</th>\n",
       "      <td>foreign</td>\n",
       "      <td>lot</td>\n",
       "      <td>High School Degree (12-13 years)</td>\n",
       "    </tr>\n",
       "    <tr>\n",
       "      <th>147697</th>\n",
       "      <td>native</td>\n",
       "      <td>bileng</td>\n",
       "      <td>Graduate Degree</td>\n",
       "    </tr>\n",
       "  </tbody>\n",
       "</table>\n",
       "</div>"
      ],
      "text/plain": [
       "       speaker_cat Eng_little  \\\n",
       "8931          late     little   \n",
       "44135       native    monoeng   \n",
       "192904      native     bileng   \n",
       "163907     foreign        lot   \n",
       "147697      native     bileng   \n",
       "\n",
       "                                                education  \n",
       "8931                           Some Undergrad (higher ed)  \n",
       "44135          Undergraduate Degree (3-5 years higher ed)  \n",
       "192904  Haven't Finished High School (less than 13 yea...  \n",
       "163907                   High School Degree (12-13 years)  \n",
       "147697                                    Graduate Degree  "
      ]
     },
     "execution_count": 10,
     "metadata": {},
     "output_type": "execute_result"
    }
   ],
   "source": [
    "binary_withNA = [\"Ebonics\"]\n",
    "# The rest of the coluns are categorical\n",
    "categorical_feats = list(\n",
    "    set(train_df.columns.tolist())\n",
    "    - set(numeric_feats)\n",
    "    - set(binary_feats)\n",
    "    - set(target)\n",
    "    - set(drop_feats)\n",
    "    - set(binary_withNA)\n",
    ")\n",
    "\n",
    "train_df[categorical_feats].head()"
   ]
  },
  {
   "cell_type": "code",
   "execution_count": 11,
   "id": "f860911b-37ee-4925-9f76-632db456a0b9",
   "metadata": {},
   "outputs": [
    {
     "data": {
      "text/plain": [
       "Ebonics\n",
       "0        34526\n",
       "1         1062\n",
       "Array        3\n",
       "Name: count, dtype: int64"
      ]
     },
     "execution_count": 11,
     "metadata": {},
     "output_type": "execute_result"
    }
   ],
   "source": [
    "train_df[\"Ebonics\"].value_counts()"
   ]
  },
  {
   "cell_type": "markdown",
   "id": "c202fecd-3aa3-4b40-9fa1-0da922376cd9",
   "metadata": {},
   "source": [
    "#### Numeric Looking Columns Distribution\n"
   ]
  },
  {
   "cell_type": "code",
   "execution_count": 15,
   "id": "af6e5303",
   "metadata": {},
   "outputs": [
    {
     "data": {
      "text/plain": [
       "array([[<Axes: title={'center': 'age'}>,\n",
       "        <Axes: title={'center': 'psychiatric'}>,\n",
       "        <Axes: title={'center': 'Eng_start'}>],\n",
       "       [<Axes: title={'center': 'Eng_country_yrs'}>,\n",
       "        <Axes: title={'center': 'house_Eng'}>,\n",
       "        <Axes: title={'center': 'nat_Eng'}>],\n",
       "       [<Axes: title={'center': 'prime_Eng'}>,\n",
       "        <Axes: title={'center': 'Lived_Eng_per'}>,\n",
       "        <Axes: title={'center': 'correct'}>]], dtype=object)"
      ]
     },
     "execution_count": 15,
     "metadata": {},
     "output_type": "execute_result"
    },
    {
     "data": {
      "image/png": "[encoded data removed]",
      "text/plain": [
       "<Figure size 2000x1500 with 9 Axes>"
      ]
     },
     "metadata": {},
     "output_type": "display_data"
    }
   ],
   "source": [
    "plot_histogram_with_exclusions(train_df, columns_to_exclude=drop_feats)"
   ]
  },
  {
   "cell_type": "markdown",
   "id": "adba342c-b82f-4b48-bb59-0cf5db67aeae",
   "metadata": {},
   "source": [
    "#### Visualising Categorical Variables\n"
   ]
  },
  {
   "cell_type": "code",
   "execution_count": null,
   "id": "c03a27af-f45a-4340-9754-75ed5d5072a8",
   "metadata": {},
   "outputs": [],
   "source": [
    "categorical_chart = (\n",
    "    alt.Chart(train_df)\n",
    "    .mark_bar()\n",
    "    .encode(\n",
    "        x=alt.X(\"education:N\", title=\"Education Level\"),\n",
    "        y=alt.Y(\"count():Q\", title=\"Count\"),\n",
    "        tooltip=[\"count()\"],\n",
    "    )\n",
    "    .properties(title=\"Distribution of Education Levels\")\n",
    ")\n",
    "\n",
    "categorical_chart"
   ]
  },
  {
   "cell_type": "code",
   "execution_count": null,
   "id": "33dacef9-f074-44b0-a0de-2ba3cfab68d9",
   "metadata": {},
   "outputs": [],
   "source": [
    "# Get value counts for the 'education' column\n",
    "education_counts = train_df[\"education\"].value_counts()\n",
    "\n",
    "# Filter to include only counts greater than 1\n",
    "education_counts_greater_than_one = education_counts[education_counts > 100]\n",
    "\n",
    "# Display the filtered value counts\n",
    "print(education_counts_greater_than_one)"
   ]
  },
  {
   "cell_type": "markdown",
   "id": "b7dda066-c847-46b9-8151-db0c8f8f66f1",
   "metadata": {},
   "source": [
    "Since majority of the Education levels are the 7 large categories, all additional Education Levels in the other categories which have a value of 1 will be labelled as Others to avoid adding major dimensionality to our dataset and we are interested in the major groups of Education Levels.\n"
   ]
  },
  {
   "cell_type": "code",
   "execution_count": null,
   "id": "a574601f-cf2d-4ecc-9aac-69251f712240",
   "metadata": {},
   "outputs": [],
   "source": [
    "categorical_education = [\"education\"]\n",
    "categorical_feats = [\"Eng_little\", \"speaker_cat\"]"
   ]
  },
  {
   "cell_type": "code",
   "execution_count": null,
   "id": "adfa2f15-778c-48c9-b6e8-cd6b87cb57ca",
   "metadata": {},
   "outputs": [],
   "source": [
    "# Checking the Categorical Features Distribution\n",
    "alt.Chart(train_df, title=\"Distribution of the Categorical features\").mark_bar().encode(\n",
    "    x=alt.X(alt.repeat()),\n",
    "    y=\"count()\",\n",
    ").properties(height=200, width=800).repeat(categorical_feats, columns=1)"
   ]
  },
  {
   "cell_type": "markdown",
   "id": "092f2537-bca4-4f34-9e49-d7bc40143b1a",
   "metadata": {},
   "source": [
    "#### Correlation matrix"
   ]
  },
  {
   "cell_type": "code",
   "execution_count": null,
   "id": "b204ef30-8916-440a-b104-c1d2320ff500",
   "metadata": {},
   "outputs": [],
   "source": [
    "normal_cols = list(\n",
    "    set(train_df.columns.tolist())\n",
    "    - set(\n",
    "        [col for col in dataset.columns if col.startswith(\"q\")]\n",
    "        + [\"Unnamed: 0\", \"date\", \"time\", \"id\"]\n",
    "    )\n",
    ")\n",
    "pearson_correlation_matrix(train_df[normal_cols], \"seismic\")"
   ]
  },
  {
   "cell_type": "markdown",
   "id": "a8e48e3c-5e3c-416a-bb0f-e5daae62e631",
   "metadata": {},
   "source": [
    "There are strong negative correlations between English language-related variables `Eng_start`, `Eng_country_yrs`, `Lived_Eng_per`,`house_Eng`,`nat_Eng`,`prime_Eng`.\n",
    "\n",
    "`correct`(our target) has a moderate positive correlation (0.103) with `age` indicating a slight positive relationship. However, this correlation is relatively weak. Additionally, correct has a strong negative correlation (-0.44) with `Eng_start`. This suggests that as the English proficiency at the start decreases, the likelihood of correctness increases.\n",
    "\n",
    "It's important to note that correlation does not imply causation.\n"
   ]
  },
  {
   "cell_type": "markdown",
   "id": "278c50bf-0bea-4847-9f71-c88bbf2c7b05",
   "metadata": {},
   "source": [
    "#### Preprocessing\n"
   ]
  },
  {
   "cell_type": "markdown",
   "id": "82733bad-e06f-437c-8211-afb66c72ad10",
   "metadata": {},
   "source": [
    "##### Creating the Column Transformers\n"
   ]
  },
  {
   "cell_type": "code",
   "execution_count": null,
   "id": "6c715030-6a71-4716-98fc-cea1c3213b88",
   "metadata": {},
   "outputs": [],
   "source": [
    "len(train_df.columns)"
   ]
  },
  {
   "cell_type": "markdown",
   "id": "e9717c70-f864-4368-80aa-e539316a9988",
   "metadata": {},
   "source": [
    "| Column Types            | Column Names                                                                                                                                                                                                                                                       | Preprocessing Step                                     |\n",
    "| ----------------------- | ------------------------------------------------------------------------------------------------------------------------------------------------------------------------------------------------------------------------------------------------------------------ | ------------------------------------------------------ |\n",
    "| Numeric                 | 'age', 'Eng_start', 'Eng_country_yrs', 'Lived_Eng_per'                                                                                                                                                                                                             | Standard Scaler and Fill Missing values with Median    |\n",
    "| Binary                  | 'house_Eng', 'nat_Eng', 'prime_Eng', 'psychiatric'                                                                                                                                                                                                                 | Keep as is                                             |\n",
    "| Target                  | 'correct'                                                                                                                                                                                                                                                          | Target Column to be kept as is for now                 |\n",
    "| Drop                    | 'elogit', 'dyslexia', 'dictionary', 'already*participated', 'natlangs', 'primelangs', 'Can_region', 'Ir_region', 'US_region', 'UK_region', 'UK_constituency', 'gender', 'type', 'currcountry', Columns starting with q*, additional id, unnamed:0 and time columns | Drop Columns                                           |\n",
    "| Binary with NA          | 'Ebonics'                                                                                                                                                                                                                                                          | Fill Missing values with 0                             |\n",
    "| Categorical - Education | 'education' (7 major categories and Others)                                                                                                                                                                                                                        | Categories other than the main 7 to be moved to Others |\n",
    "| Categorical             | 'Eng_little', 'speaker_cat', 'countries'                                                                                                                                                                                                                           | One hot encoding the Categorical column                |\n",
    "| Categorical - Countries | 'countries' (Map to continent)                                                                                                                                                                                                                                     | Map the countries to their continents                  |\n"
   ]
  },
  {
   "cell_type": "markdown",
   "id": "f38d2c7a",
   "metadata": {},
   "source": [
    "For the current scope of this analysis, we are not including \"Ebonics\". This is because it is an \"object\" datatype. We will add it in our future analysis.\n"
   ]
  },
  {
   "cell_type": "code",
   "execution_count": null,
   "id": "1a522d44-5ac9-4f4a-939a-fc34148a7212",
   "metadata": {},
   "outputs": [],
   "source": [
    "numeric_feats = [\"age\", \"Eng_start\", \"Eng_country_yrs\", \"Lived_Eng_per\"]\n",
    "\n",
    "binary_feats = [\"psychiatric\"]\n",
    "target = [\"correct\"]\n",
    "\n",
    "drop_feats = [\n",
    "    \"id\",\n",
    "    \"time\",\n",
    "    \"Unnamed: 0\",\n",
    "    \"tests\",\n",
    "    \"elogit\",\n",
    "    \"dyslexia\",\n",
    "    \"dictionary\",\n",
    "    \"already_participated\",\n",
    "    \"natlangs\",\n",
    "    \"primelangs\",\n",
    "    \"Can_region\",\n",
    "    \"Ir_region\",\n",
    "    \"US_region\",\n",
    "    \"UK_region\",\n",
    "    \"UK_constituency\",\n",
    "    \"gender\",\n",
    "    \"type\",\n",
    "    \"currcountry\",\n",
    "    \"countries\",\n",
    "]\n",
    "\n",
    "question_columns_to_drop = [col for col in dataset.columns if col.startswith(\"q\")]\n",
    "\n",
    "drop_feats += question_columns_to_drop\n",
    "\n",
    "binary_withNA = [\n",
    "    \"house_Eng\",\n",
    "    \"nat_Eng\",\n",
    "    \"prime_Eng\",\n",
    "]  # [\"Ebonics\", \"house_Eng\", \"nat_Eng\", \"prime_Eng\"]\n",
    "\n",
    "categorical_education = [\"education\"]  # show 7 major categories and Others\n",
    "categorical_feats = [\"Eng_little\", \"speaker_cat\"]\n",
    "# categorical_countries = ['countries']"
   ]
  },
  {
   "cell_type": "code",
   "execution_count": null,
   "id": "9aec8218-9da7-418b-b8cd-e0e7f5a857f4",
   "metadata": {},
   "outputs": [],
   "source": [
    "numeric_transformer = make_pipeline(\n",
    "    SimpleImputer(strategy=\"median\"), StandardScaler())\n",
    "\n",
    "categorical_transformer = make_pipeline(\n",
    "    SimpleImputer(strategy=\"constant\", fill_value=\"little\"),\n",
    "    OneHotEncoder(handle_unknown=\"ignore\", sparse_output=False),\n",
    ")\n",
    "\n",
    "binary_NA_transformer = make_pipeline(\n",
    "    SimpleImputer(strategy=\"constant\", fill_value=0),\n",
    "    OneHotEncoder(\n",
    "        handle_unknown=\"ignore\", sparse_output=False, drop=\"if_binary\", dtype=int\n",
    "    ),\n",
    ")\n",
    "\n",
    "\n",
    "categories_list = education_counts_greater_than_one.index.tolist()\n",
    "\n",
    "\n",
    "# Define the custom function to map values to 'Other'\n",
    "def map_to_other(df):\n",
    "    return (\n",
    "        df[\"education\"].apply(\n",
    "            lambda x: x if x in categories_list else \"Others\")\n",
    "    ).to_frame()\n",
    "\n",
    "\n",
    "# Defines the order for Education to be used in the OrdinalEncoder\n",
    "education_order = [\n",
    "    \"Graduate Degree\",\n",
    "    \"Some Graduate School\",\n",
    "    \"Undergraduate Degree (3-5 years higher ed)\",\n",
    "    \"Some Undergrad (higher ed)\",\n",
    "    \"High School Degree (12-13 years)\",\n",
    "    \"Haven't Finished High School (less than 13 years ed)\",\n",
    "    \"Didn't Finish High School (less than 13 years ed)\",\n",
    "    \"Others\",\n",
    "]\n",
    "\n",
    "\n",
    "# Create a transformer using FunctionTransformer\n",
    "categorical_education_tranformer = make_pipeline(\n",
    "    FunctionTransformer(map_to_other), OrdinalEncoder(\n",
    "        categories=[education_order])\n",
    ")\n",
    "\n",
    "\n",
    "preprocessor = make_column_transformer(\n",
    "    (\"drop\", drop_feats),\n",
    "    (numeric_transformer, numeric_feats),\n",
    "    (categorical_transformer, categorical_feats),\n",
    "    (\"passthrough\", binary_feats),\n",
    "    # (\"passthrough\", target),# for now it is pass through but later most likely log transformation will be applied hence added like this\n",
    "    (binary_NA_transformer, binary_withNA),\n",
    "    (categorical_education_tranformer, categorical_education),\n",
    ")"
   ]
  },
  {
   "cell_type": "code",
   "execution_count": null,
   "id": "56f95bb3-ac74-403e-9859-6ed791619563",
   "metadata": {},
   "outputs": [],
   "source": [
    "map_to_other(train_df[categorical_education])"
   ]
  },
  {
   "cell_type": "code",
   "execution_count": null,
   "id": "0dd7fb0e-c782-411f-8650-3694b36d5446",
   "metadata": {},
   "outputs": [],
   "source": [
    "X_train = train_df.drop(columns=target)\n",
    "y_train = train_df[\"correct\"]\n",
    "\n",
    "X_test = test_df.drop(columns=target)\n",
    "y_test = test_df[\"correct\"]"
   ]
  },
  {
   "cell_type": "code",
   "execution_count": null,
   "id": "07820efe-cb8d-4e24-87b6-45cab4172057",
   "metadata": {},
   "outputs": [],
   "source": [
    "check = (\n",
    "    drop_feats\n",
    "    + target\n",
    "    + numeric_feats\n",
    "    + binary_feats\n",
    "    + drop_feats\n",
    "    + binary_withNA\n",
    "    + categorical_education\n",
    "    + categorical_feats\n",
    ")"
   ]
  },
  {
   "cell_type": "code",
   "execution_count": null,
   "id": "8b40201d-39a8-45bc-aa10-aad0d90757f2",
   "metadata": {},
   "outputs": [],
   "source": [
    "preprocessor.fit(X_train)  # Calling fit to examine all the transformers.\n",
    "preprocessor.named_transformers_"
   ]
  },
  {
   "cell_type": "markdown",
   "id": "46d62463-d8ae-4efe-a0e3-1cd9f7212baf",
   "metadata": {},
   "source": [
    "##### Checking if the Preprocessor Works"
   ]
  },
  {
   "cell_type": "code",
   "execution_count": null,
   "id": "cbdb0018-0656-4166-a356-dd6281d381b1",
   "metadata": {},
   "outputs": [],
   "source": [
    "ohe_columns = list(\n",
    "    preprocessor.named_transformers_[\"pipeline-2\"]\n",
    "    .named_steps[\"onehotencoder\"]\n",
    "    .get_feature_names_out(categorical_feats)\n",
    ")\n",
    "\n",
    "new_columns = (\n",
    "    numeric_feats + ohe_columns + binary_feats +\n",
    "    binary_withNA + categorical_education\n",
    ")"
   ]
  },
  {
   "cell_type": "code",
   "execution_count": null,
   "id": "83adcbde-14d9-4153-afdf-9845654e0304",
   "metadata": {},
   "outputs": [],
   "source": [
    "X_train_enc = pd.DataFrame(\n",
    "    preprocessor.transform(X_train), index=X_train.index, columns=new_columns\n",
    ")\n",
    "X_train_enc.head(5)"
   ]
  },
  {
   "cell_type": "code",
   "execution_count": null,
   "id": "c57d10fb-0512-4215-878c-4e1486f94bc0",
   "metadata": {},
   "outputs": [],
   "source": [
    "X_train_enc.isnull().values.any()"
   ]
  },
  {
   "cell_type": "code",
   "execution_count": null,
   "id": "ada64c77",
   "metadata": {},
   "outputs": [],
   "source": [
    "X_train_enc.info()"
   ]
  },
  {
   "cell_type": "markdown",
   "id": "6fd2662d-f972-4ea7-86a9-04e105173274",
   "metadata": {},
   "source": [
    "### Modeling & Results"
   ]
  },
  {
   "cell_type": "markdown",
   "id": "7595a7de-44fd-4888-957b-c87114a8734a",
   "metadata": {},
   "source": [
    "As discussed in the Methods summary, we will now build and test our Ridge Regression and Lasso Models\n"
   ]
  },
  {
   "cell_type": "markdown",
   "id": "ecd87ad3",
   "metadata": {},
   "source": [
    "##### Ridge Regression Model\n",
    "\n",
    "In this section we will be using the Ridge Regression model to predict the English Proficiency Score of a participant based on the features we have selected in the previous section.\n",
    "\n",
    "Ridge regression is a linear regression model that uses L2 regularization. This means that the model penalizes the sum of squared coefficients.\n",
    "\n",
    "We will use the RMSE for our metric of choice to evaluate the performance of our model. This is because it would give us the same units as our target variable and would be easier to interpret. We considered using MAPE as well but since we have some values that are 0 in our target variable, we would have to drop those values and we would lose some information. We also included the R squared (the score that sklearn uses by default when you call score) in our CV results to have another, maybe more intuitive, way of assessing our model performance. Note that we set `refit='RMSE'` so that our best model that is returned has an alpha value that has the best cross-validated RMSE score.\n"
   ]
  },
  {
   "cell_type": "code",
   "execution_count": null,
   "id": "abed101e-f590-4da2-abc1-b0bb30682dd1",
   "metadata": {},
   "outputs": [],
   "source": [
    "# Make the pipeline\n",
    "ridge_pipe = make_pipeline(preprocessor, Ridge())\n",
    "\n",
    "# Create the parameter grid\n",
    "param_grid = {\n",
    "    \"ridge__alpha\": loguniform(1e-3, 1e3),\n",
    "}\n",
    "\n",
    "# Make scoring list\n",
    "scoring = {\"RMSE\": \"neg_root_mean_squared_error\", \"R squared\": \"r2\"}\n",
    "\n",
    "ridge_search = RandomizedSearchCV(\n",
    "    ridge_pipe,\n",
    "    param_distributions=param_grid,\n",
    "    n_jobs=-1,\n",
    "    n_iter=30,\n",
    "    cv=10,\n",
    "    return_train_score=True,\n",
    "    random_state=123,\n",
    "    scoring=scoring,\n",
    "    refit=\"RMSE\",\n",
    ")\n",
    "\n",
    "# ridge_search.fit(X_train, y_train)"
   ]
  },
  {
   "cell_type": "markdown",
   "id": "484b5faa",
   "metadata": {},
   "source": [
    "The cell below shows the top 5 alpha values and their corresponding scores.\n"
   ]
  },
  {
   "cell_type": "code",
   "execution_count": null,
   "id": "8ea3bf66",
   "metadata": {},
   "outputs": [],
   "source": [
    "fit_and_return_top_models(\n",
    "    ridge_search,\n",
    "    5,\n",
    "    X_train,\n",
    "    y_train,\n",
    "    [\n",
    "        \"param_ridge__alpha\",\n",
    "        \"mean_train_R squared\",\n",
    "        \"mean_test_R squared\",\n",
    "    ],\n",
    "    scoring=\"RMSE\",\n",
    ")"
   ]
  },
  {
   "cell_type": "code",
   "execution_count": null,
   "id": "f7e70ec7",
   "metadata": {},
   "outputs": [],
   "source": [
    "best_ridge_alpha = ridge_search.best_params_[\"ridge__alpha\"]\n",
    "print(f\"Best alpa for Ridge: {best_ridge_alpha}\")\n",
    "print(f\"Best CV RMSE score: {-ridge_search.best_score_}\")"
   ]
  },
  {
   "cell_type": "code",
   "execution_count": null,
   "id": "93fa3dad",
   "metadata": {},
   "outputs": [],
   "source": [
    "print(f\"Test RMSE score: {-ridge_search.score(X_test, y_test)}\")"
   ]
  },
  {
   "cell_type": "markdown",
   "id": "81cd1ffa",
   "metadata": {},
   "source": [
    "We find out that the optimal `alpha` value for ridge is 1.546. This corresponds to a CV RMSE of 0.053178 and a test score of 0.052821. We should note that this alpha value is optimal for both RMSE and $R^2$ - maximizing the $R^2$ CV score to 0.24096.\n",
    "\n",
    "This shows that the model is not overfitting since the CV and test scores are very close to each other (both rounding to 5.3%).\n"
   ]
  },
  {
   "cell_type": "markdown",
   "id": "ed0319cf-d560-433d-bc76-2b6bcc17140b",
   "metadata": {},
   "source": [
    "##### Lasso Regression Model\n",
    "\n",
    "The next model that we created is a Lasso Regression model. Lasso stands for Least Absolute Shrinkage and Selection Operator and differs from Ridge Regression in that Lasso allows for feature reduction (i.e. the coefficients can be zero whereas Ridge never sets the coefficient to be zero). Like Ridge, Lasso is a linear regression model, but uses L1 regularization - penalizing the sum of the absolute values of the coefficients. Similar to the Ridge Regression modeling above, we performed 10-fold cross-validation using RMSE as our primary scoring metric.\n"
   ]
  },
  {
   "cell_type": "code",
   "execution_count": null,
   "id": "7640b5fe-242d-4912-8cce-cb468dc8a7da",
   "metadata": {},
   "outputs": [],
   "source": [
    "# Set alphas to search over for Lasso\n",
    "lasso_dist = {\"lasso__alpha\": loguniform(1e-3, 1e3)}\n",
    "\n",
    "# Make the Lasso pipeline & search best alpha\n",
    "lasso_pipe = make_pipeline(preprocessor, Lasso())\n",
    "lasso_search = RandomizedSearchCV(\n",
    "    lasso_pipe,\n",
    "    param_distributions=lasso_dist,\n",
    "    n_jobs=-1,\n",
    "    n_iter=30,\n",
    "    cv=10,\n",
    "    return_train_score=True,\n",
    "    random_state=123,\n",
    "    scoring=scoring,\n",
    "    refit=\"RMSE\",\n",
    ")\n",
    "\n",
    "# lasso_search.fit(X_train, y_train)"
   ]
  },
  {
   "attachments": {},
   "cell_type": "markdown",
   "id": "6d01026d-34e0-44b6-a991-ea122cc2f697",
   "metadata": {},
   "source": [
    "Below are the results of our randomized hyperparameter search for the top 5 alpha values and the corresponding RMSE scores and fit times.\n"
   ]
  },
  {
   "cell_type": "code",
   "execution_count": null,
   "id": "f259ca5d",
   "metadata": {},
   "outputs": [],
   "source": [
    "fit_and_return_top_models(\n",
    "    lasso_search,\n",
    "    5,\n",
    "    X_train,\n",
    "    y_train,\n",
    "    [\n",
    "        \"param_lasso__alpha\",\n",
    "        \"mean_train_R squared\",\n",
    "        \"mean_test_R squared\",\n",
    "    ],\n",
    "    scoring=\"RMSE\",\n",
    ")"
   ]
  },
  {
   "cell_type": "code",
   "execution_count": null,
   "id": "6ee15de6-f49d-4688-9733-69e1bc0d9559",
   "metadata": {},
   "outputs": [],
   "source": [
    "print(f\"Best alpha value for Lasso: {lasso_search.best_params_['lasso__alpha']}\")\n",
    "print(f\"Best CV RMSE score for Lasso: {-lasso_search.best_score_}\")"
   ]
  },
  {
   "cell_type": "markdown",
   "id": "94f1fcaf-234c-4bde-a6d2-64341e51d693",
   "metadata": {},
   "source": [
    "Now that we have found this optimal model, we can score this model to our test data.\n"
   ]
  },
  {
   "cell_type": "code",
   "execution_count": null,
   "id": "18f53b6f-37f6-491b-8e1c-41316f6c7e7b",
   "metadata": {},
   "outputs": [],
   "source": [
    "print(f\"Test RMSE score: {-lasso_search.score(X_test, y_test)}\")"
   ]
  },
  {
   "cell_type": "markdown",
   "id": "7a95ed36-9175-4b6b-ac04-2806332929c3",
   "metadata": {},
   "source": [
    "For our optimal model with an `alpha` value of 0.002281, we got a CV RMSE of 0.05416 for our training data and a RMSE test score of 0.05386. Like in our Ridge model, we find again that our model is not overfitting since the CV train score and test score are very similar (both rounding to 5.4%). Likee Ridge, we note again that this alpha value is optimal for both RMSE and $R^2$ - maximizing the $R^2$ CV score to 0.21256.\n"
   ]
  },
  {
   "cell_type": "markdown",
   "id": "15060b17-7208-47f0-b294-8599fb0d9a7d",
   "metadata": {},
   "source": [
    "##### Model Selection"
   ]
  },
  {
   "cell_type": "markdown",
   "id": "af9596c8-d21a-4528-a6d5-0dc50ed37e4c",
   "metadata": {},
   "source": [
    "The CV RMSE and test score results from the Ridge and Lasso models detailed above are very similar, however the optimal Ridge model performs marginally better on both the training and test data (with roughly a 5.3% RMSE on both training and test data). Therefore, our optimal model is the `Ridge` linear model trained with L2 regularization and an `alpha` value of 1.546.\n"
   ]
  },
  {
   "cell_type": "markdown",
   "id": "20fabced-cb0d-4bb3-a9fd-6dd5cb5002b4",
   "metadata": {},
   "source": [
    "## Discussion\n",
    "\n",
    "Looking at our optimal model, we are able to look at the learned coefficients for the model features. We interpret our results in that increasing features with positive coefficients is associated with an increased `correct` test score, whereas an increase in the features with negative coefficients is associated with decreasing `correct` test scores.\n"
   ]
  },
  {
   "cell_type": "code",
   "execution_count": null,
   "id": "89388a02-20e6-4d9e-a6e3-640417b2a905",
   "metadata": {},
   "outputs": [],
   "source": [
    "# Fitting our optimal model to get the learned coefficients\n",
    "best_pipe = make_pipeline(\n",
    "    preprocessor, Ridge(alpha=ridge_search.best_params_[\"ridge__alpha\"])\n",
    ")\n",
    "best_pipe.fit(X_train, y_train)\n",
    "\n",
    "# Get the feature coefficien values\n",
    "show_feat_coeff(best_pipe, \"ridge\", X_train)"
   ]
  },
  {
   "cell_type": "markdown",
   "id": "b0093225-f4bc-4fd6-9dea-c2cfb6e84818",
   "metadata": {},
   "source": [
    "From the results above, we can see that the most important features in determining a high English Proficiency Score are:\n",
    "\n",
    "- `Eng_little_monoeng`: This is a binary column that indicates whether the participant is a native speaker of English or not. This is the most important feature associated with increasing the English Proficiency Score.\n",
    "- `Eng_little_bileng`: This is a binary column that indicates whether the participant is native speaker of English plus at least one other language. This is the second most important feature associated with increasing the English Proficiency Score.\n",
    "\n",
    "This shows that the most important feature in increasing the English Proficiency Score among this dataset is whether the participant is a native speaker of English or not. This is followed by whether the participant is a native speaker in both English and at least one other language - both of which make sense logically.\n",
    "\n",
    "The most important features in lowering the English Proficiency Score are:\n",
    "\n",
    "- `Eng_little_lot`: This is a binary column that indicates whether the participant is an immersion learner.\n",
    "- `psychiatric`: This is a binary column that indicates whether the participant has any psychiatric disorders.\n",
    "- `Eng_little_little`: This is a binary column that indicates whether the participant is a non-immersion learner.\n",
    "\n",
    "This somewhat makes sense since the most important features in determining the test scores is the Eng_little encoding. If the person is a native speaker or a native speaker of English and at least one other language, they would have a higher test score. If the person is an immersion learner or a non-immersion learner, they would have a lower test score.\n"
   ]
  },
  {
   "cell_type": "markdown",
   "id": "08c1318e-b6e9-4dce-812f-c0501d3332e1",
   "metadata": {},
   "source": [
    "We measured the performance of our model on the test data with our RMSE test score of 0.052821 (~ 5.28%) (and a corresponding $R^2$ score of 0.24096). From these numbers, we can make a couple general notes on our model performance. Our $R^2$ value of 0.24 means that 24% of the variance in the `correct` English Proficiency Score is associated with the features (as illustrated in our coefficient table above) in our model. Additionally, our RMSE of 0.052821 suggests that, on average, our predictions have an error of 5.28%. We can further visualize the deviation of our predictions from the actual test scores by plotting our predicted test English Proficiency Score values against our actual test English Proficiency Score values.\n"
   ]
  },
  {
   "cell_type": "code",
   "execution_count": null,
   "id": "bd5f1adf-8911-4a18-8031-f00e6070bd1d",
   "metadata": {},
   "outputs": [],
   "source": [
    "# Plot actual vs. predicted English Profficiency Scores with our optimal model\n",
    "plt_regr_pred(X_train, y_train, best_pipe)"
   ]
  },
  {
   "cell_type": "markdown",
   "id": "4c1ca10a-226a-4042-8c62-97423f96db8e",
   "metadata": {},
   "source": [
    "The scatterplot above plots our predicted English Proficiency Scores from our Ridge model against the actual English Proficiency Scores. The dashed black line represents the \"perfect\" prediction where the predicted is equal to the actual score. We see that the majority of the examples are clustered in the upper right quadrant of the plot and appear to be closer to the diagonal line, veering further above the diagonal as the actual score value decreases. This indicates that the predicted scores are more accurate for the higher actual scores, and we tend to predict higher scores as the value of the actual score decreases. Although our 5.3% RMSE quantifies our model performance in general, we can note from the plot above that our model appears to better predict higher English Proficiency Scores - varying significantly from the actual score for lower English Proficiency Scores.\n"
   ]
  },
  {
   "cell_type": "markdown",
   "id": "fcb42afc-9805-48c1-ae00-0021d84e80f6",
   "metadata": {},
   "source": [
    "Considering the limitations noted above, our model may be useful in the initial analysis of individuals wanting to learn English as a second language to make an informal prediction on an estimated level of English Proficiency. This estimated English Proficiency Score could be used as a tool to allocate the appropriate amount of resources or suggest a certain level of guidance to an individual to best facilitate their English learning. This work could be further explored with a more in depth look at the feature importance and the correlation between specific features in the dataset and how they are associated with test scores. This could also be improved with feature selection to see which combination os features would be best used to help the model better predict test scores. Additionally, other regression models could be explored, such as KNN regression, to see if allowing for non-linear decision boundaries\n"
   ]
  },
  {
   "cell_type": "markdown",
   "id": "5e0195c8-ac29-4983-b61f-f75d2614f699",
   "metadata": {},
   "source": [
    "## References\n",
    "\n",
    "Hartshorne, J. (2020, September 30). Data: A critical period for second language acquisition: Evidence from 2/3 million English speakers. OSF. https://osf.io/pyb8s/wiki/home/ (Dataset)\n",
    "\n",
    "Hartshorne, J. K., Tenenbaum, J. B., &amp; Pinker, S. (2018). A critical period for second language acquisition: Evidence from 2/3 million English speakers. Cognition, 177, 263–277. https://doi.org/10.1016/j.cognition.2018.04.007\n",
    "\n",
    "Li, H. L. and M. (2023a, April 18). Practitioner’s Guide to Data Science. 10.2 LASSO. https://scientistcafe.com/ids/lasso\n",
    "\n",
    "Wessel N. van Wieringen1 Department of Epidemiology and Data Scienc. eLecture notes on ridge regression (Version 0.60, June 27, 2023.) https://arxiv.org/pdf/1509.09169.pdf\n",
    "\n",
    "Deepika Singh (Nov 12, 2019) Linear, Lasso, and Ridge Regression with R https://www.pluralsight.com/guides/linear-lasso-and-ridge-regression-with-r\n"
   ]
  }
 ],
 "metadata": {
  "kernelspec": {
   "display_name": "Python [conda env:522]",
   "language": "python",
   "name": "conda-env-522-py"
  },
  "language_info": {
   "codemirror_mode": {
    "name": "ipython",
    "version": 3
   },
   "file_extension": ".py",
   "mimetype": "text/x-python",
   "name": "python",
   "nbconvert_exporter": "python",
   "pygments_lexer": "ipython3",
   "version": "3.11.6"
  }
 },
 "nbformat": 4,
 "nbformat_minor": 5
}
